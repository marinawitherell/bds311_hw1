{
 "cells": [
  {
   "cell_type": "code",
   "execution_count": 1,
   "metadata": {
    "deletable": false,
    "editable": false,
    "tags": []
   },
   "outputs": [],
   "source": [
    "# Initialize Otter\n",
    "import otter\n",
    "grader = otter.Notebook(\"hw01.ipynb\")"
   ]
  },
  {
   "cell_type": "markdown",
   "metadata": {},
   "source": [
    "# **Homework 1: Pandas and Plotting**\n",
    "\n",
    "## Due Monday Jan 22nd at 11:59pm"
   ]
  },
  {
   "cell_type": "code",
   "execution_count": 2,
   "metadata": {
    "tags": []
   },
   "outputs": [],
   "source": [
    "import numpy as np\n",
    "import pandas as pd\n",
    "import matplotlib.pyplot as plt\n",
    "%matplotlib inline"
   ]
  },
  {
   "cell_type": "markdown",
   "metadata": {},
   "source": [
    "## Point Breakdown (44 pts total)\n",
    "- Q0: 3 pts\n",
    "- Q1a: 3 pts\n",
    "- Q1b: 3 pts\n",
    "- Q1c: 5 pts\n",
    "- Q1d: 5 pts\n",
    "- Q1e: 5 pts\n",
    "- Q1f: 10 pts\n",
    "- Q1g: 10 pts"
   ]
  },
  {
   "cell_type": "markdown",
   "metadata": {},
   "source": [
    "## Helpful Resources:\n",
    "\n",
    "- [Python Examples](https://nbviewer.jupyter.org/urls/bitbucket.org/hrojas/learn-pandas/raw/master/lessons/Python_101.ipynb): A reference for distinct Python commands (worth returning to throughout this course)\n",
    "\n",
    "- [Essential, concise Pandas Reference](https://pandas.pydata.org/pandas-docs/stable/user_guide/10min.html)\n",
    "\n",
    "\n"
   ]
  },
  {
   "cell_type": "markdown",
   "metadata": {
    "deletable": false,
    "editable": false
   },
   "source": [
    "<!-- BEGIN QUESTION -->\n",
    "\n",
    "---\n",
    "## Question 0: Connecting with this week's homework partners (3 pts)\n",
    "Chat (or email) with your homework partner(s) this week to check in about the assignment. Check the class roster on Canvas if you can't find them during class. Ask or try to answer any homework questions you/they have. In addition, please find a bit more about them and share below. <br>\n",
    " * Where were they born?\n",
    " * Their favorite nonschool activity?\n",
    " * Their favorite spot in Corvallis?<br>\n",
    " <br>\n",
    " \n",
    "Homework partners are:\n",
    "\n",
    "```\n",
    "['Madelyn', 'Shreetama'],\n",
    "['Karly', 'Siena'],\n",
    "['Samuel', 'Jesse'],\n",
    "['Morgan', 'Lucas'],\n",
    "['Andy', 'Blake'],\n",
    "['Alaina', 'Kyle'],\n",
    "['Emmanuela', 'Aine'],\n",
    "['Andrea V.', 'Kili'],\n",
    "['Imre', 'Marina'],\n",
    "['Finn', 'Hadrian'],\n",
    "['Colin', 'Lexie'],\n",
    "['Alexis', 'Rachel'],\n",
    "['Sarah', 'James'],\n",
    "['Alex', 'Brenly'],\n",
    "['Tyler', 'Andrea S.'],\n",
    "['Kaya', 'Lindsey'],\n",
    "['Maximilian', 'Olivia'],\n",
    "['Riley', 'Chandra']\n",
    "\n",
    "```\n",
    "\n",
    "   \n",
    "Type out their answers in a Markdown Cell below."
   ]
  },
  {
   "cell_type": "markdown",
   "metadata": {},
   "source": [
    "Imre was born in Portland, Oregon. Their favorite nonschool activities are cooking and watching improv. In Corvallis, they like to find cozy, low traffic corners on campus to hang out."
   ]
  },
  {
   "cell_type": "markdown",
   "metadata": {
    "deletable": false,
    "editable": false
   },
   "source": [
    "<!-- END QUESTION -->\n",
    "\n",
    "## Question 1: Analyzing Covid-19 infections with Pandas"
   ]
  },
  {
   "cell_type": "markdown",
   "metadata": {
    "deletable": false,
    "editable": false
   },
   "source": [
    "### Question 1a: Loading Data (3 pts)\n",
    "The `state_data.csv` file in the `hw01` directory contains daily data about new Covid-19 infections across all 50 states from January 2020 to January 2023. These data are from a [repository](https://github.com/nytimes/covid-19-data) maintained by the New York Times. CSV stands for comma separated values, and the file can be opened with a spreadsheet application on Jupyter notebook.<br> The specific columns we will focus on are `state`, `cases_avg_per_100k`, and `years_since_jan1_2020`. The`cases_avg_per_100k` column is the rolling 7-day average of positive Covid-19 infections reported by state health authorities per 100,000 residents.<br>\n",
    "Read the `state_data.csv` file into Python as a Pandas dataframe using the `read_csv` method. Assign the resulting data frame to the variable `state_df`.\n"
   ]
  },
  {
   "cell_type": "code",
   "execution_count": 5,
   "metadata": {
    "tags": []
   },
   "outputs": [],
   "source": [
    "state_df = pd.read_csv('state_data.csv')"
   ]
  },
  {
   "cell_type": "code",
   "execution_count": 6,
   "metadata": {
    "deletable": false,
    "editable": false,
    "tags": []
   },
   "outputs": [
    {
     "data": {
      "text/html": [
       "<p><strong><pre style='display: inline;'>q1a</pre></strong> passed! 🌈</p>"
      ],
      "text/plain": [
       "q1a results: All test cases passed!"
      ]
     },
     "execution_count": 6,
     "metadata": {},
     "output_type": "execute_result"
    }
   ],
   "source": [
    "grader.check(\"q1a\")"
   ]
  },
  {
   "cell_type": "markdown",
   "metadata": {},
   "source": [
    "The `head()` and `tail()` methods of the Data Frame class are a good way to inspect the dataframe."
   ]
  },
  {
   "cell_type": "code",
   "execution_count": 22,
   "metadata": {
    "tags": []
   },
   "outputs": [
    {
     "data": {
      "text/html": [
       "<div>\n",
       "<style scoped>\n",
       "    .dataframe tbody tr th:only-of-type {\n",
       "        vertical-align: middle;\n",
       "    }\n",
       "\n",
       "    .dataframe tbody tr th {\n",
       "        vertical-align: top;\n",
       "    }\n",
       "\n",
       "    .dataframe thead th {\n",
       "        text-align: right;\n",
       "    }\n",
       "</style>\n",
       "<table border=\"1\" class=\"dataframe\">\n",
       "  <thead>\n",
       "    <tr style=\"text-align: right;\">\n",
       "      <th></th>\n",
       "      <th>date</th>\n",
       "      <th>geoid</th>\n",
       "      <th>state</th>\n",
       "      <th>cases</th>\n",
       "      <th>cases_avg</th>\n",
       "      <th>cases_avg_per_100k</th>\n",
       "      <th>deaths</th>\n",
       "      <th>deaths_avg</th>\n",
       "      <th>deaths_avg_per_100k</th>\n",
       "      <th>years_since_jan1_2020</th>\n",
       "    </tr>\n",
       "  </thead>\n",
       "  <tbody>\n",
       "    <tr>\n",
       "      <th>0</th>\n",
       "      <td>2020-01-21</td>\n",
       "      <td>USA-53</td>\n",
       "      <td>Washington</td>\n",
       "      <td>1</td>\n",
       "      <td>0.14</td>\n",
       "      <td>0.0</td>\n",
       "      <td>0</td>\n",
       "      <td>0.0</td>\n",
       "      <td>0.0</td>\n",
       "      <td>0.054795</td>\n",
       "    </tr>\n",
       "    <tr>\n",
       "      <th>1</th>\n",
       "      <td>2020-01-22</td>\n",
       "      <td>USA-53</td>\n",
       "      <td>Washington</td>\n",
       "      <td>0</td>\n",
       "      <td>0.14</td>\n",
       "      <td>0.0</td>\n",
       "      <td>0</td>\n",
       "      <td>0.0</td>\n",
       "      <td>0.0</td>\n",
       "      <td>0.057534</td>\n",
       "    </tr>\n",
       "    <tr>\n",
       "      <th>2</th>\n",
       "      <td>2020-01-23</td>\n",
       "      <td>USA-53</td>\n",
       "      <td>Washington</td>\n",
       "      <td>0</td>\n",
       "      <td>0.14</td>\n",
       "      <td>0.0</td>\n",
       "      <td>0</td>\n",
       "      <td>0.0</td>\n",
       "      <td>0.0</td>\n",
       "      <td>0.060274</td>\n",
       "    </tr>\n",
       "    <tr>\n",
       "      <th>3</th>\n",
       "      <td>2020-01-24</td>\n",
       "      <td>USA-53</td>\n",
       "      <td>Washington</td>\n",
       "      <td>0</td>\n",
       "      <td>0.14</td>\n",
       "      <td>0.0</td>\n",
       "      <td>0</td>\n",
       "      <td>0.0</td>\n",
       "      <td>0.0</td>\n",
       "      <td>0.063014</td>\n",
       "    </tr>\n",
       "    <tr>\n",
       "      <th>4</th>\n",
       "      <td>2020-01-24</td>\n",
       "      <td>USA-17</td>\n",
       "      <td>Illinois</td>\n",
       "      <td>1</td>\n",
       "      <td>0.14</td>\n",
       "      <td>0.0</td>\n",
       "      <td>0</td>\n",
       "      <td>0.0</td>\n",
       "      <td>0.0</td>\n",
       "      <td>0.063014</td>\n",
       "    </tr>\n",
       "  </tbody>\n",
       "</table>\n",
       "</div>"
      ],
      "text/plain": [
       "         date   geoid       state  cases  cases_avg  cases_avg_per_100k  \\\n",
       "0  2020-01-21  USA-53  Washington      1       0.14                 0.0   \n",
       "1  2020-01-22  USA-53  Washington      0       0.14                 0.0   \n",
       "2  2020-01-23  USA-53  Washington      0       0.14                 0.0   \n",
       "3  2020-01-24  USA-53  Washington      0       0.14                 0.0   \n",
       "4  2020-01-24  USA-17    Illinois      1       0.14                 0.0   \n",
       "\n",
       "   deaths  deaths_avg  deaths_avg_per_100k  years_since_jan1_2020  \n",
       "0       0         0.0                  0.0               0.054795  \n",
       "1       0         0.0                  0.0               0.057534  \n",
       "2       0         0.0                  0.0               0.060274  \n",
       "3       0         0.0                  0.0               0.063014  \n",
       "4       0         0.0                  0.0               0.063014  "
      ]
     },
     "execution_count": 22,
     "metadata": {},
     "output_type": "execute_result"
    }
   ],
   "source": [
    "state_df.head(5)"
   ]
  },
  {
   "cell_type": "code",
   "execution_count": 23,
   "metadata": {
    "tags": []
   },
   "outputs": [
    {
     "data": {
      "text/html": [
       "<div>\n",
       "<style scoped>\n",
       "    .dataframe tbody tr th:only-of-type {\n",
       "        vertical-align: middle;\n",
       "    }\n",
       "\n",
       "    .dataframe tbody tr th {\n",
       "        vertical-align: top;\n",
       "    }\n",
       "\n",
       "    .dataframe thead th {\n",
       "        text-align: right;\n",
       "    }\n",
       "</style>\n",
       "<table border=\"1\" class=\"dataframe\">\n",
       "  <thead>\n",
       "    <tr style=\"text-align: right;\">\n",
       "      <th></th>\n",
       "      <th>date</th>\n",
       "      <th>geoid</th>\n",
       "      <th>state</th>\n",
       "      <th>cases</th>\n",
       "      <th>cases_avg</th>\n",
       "      <th>cases_avg_per_100k</th>\n",
       "      <th>deaths</th>\n",
       "      <th>deaths_avg</th>\n",
       "      <th>deaths_avg_per_100k</th>\n",
       "      <th>years_since_jan1_2020</th>\n",
       "    </tr>\n",
       "  </thead>\n",
       "  <tbody>\n",
       "    <tr>\n",
       "      <th>57847</th>\n",
       "      <td>2023-01-09</td>\n",
       "      <td>USA-09</td>\n",
       "      <td>Connecticut</td>\n",
       "      <td>244</td>\n",
       "      <td>808.43</td>\n",
       "      <td>22.67</td>\n",
       "      <td>0</td>\n",
       "      <td>5.29</td>\n",
       "      <td>0.15</td>\n",
       "      <td>3.024658</td>\n",
       "    </tr>\n",
       "    <tr>\n",
       "      <th>57848</th>\n",
       "      <td>2023-01-09</td>\n",
       "      <td>USA-08</td>\n",
       "      <td>Colorado</td>\n",
       "      <td>1000</td>\n",
       "      <td>491.29</td>\n",
       "      <td>8.53</td>\n",
       "      <td>23</td>\n",
       "      <td>4.20</td>\n",
       "      <td>0.07</td>\n",
       "      <td>3.024658</td>\n",
       "    </tr>\n",
       "    <tr>\n",
       "      <th>57849</th>\n",
       "      <td>2023-01-09</td>\n",
       "      <td>USA-06</td>\n",
       "      <td>California</td>\n",
       "      <td>5135</td>\n",
       "      <td>7537.13</td>\n",
       "      <td>19.08</td>\n",
       "      <td>60</td>\n",
       "      <td>51.70</td>\n",
       "      <td>0.13</td>\n",
       "      <td>3.024658</td>\n",
       "    </tr>\n",
       "    <tr>\n",
       "      <th>57850</th>\n",
       "      <td>2023-01-09</td>\n",
       "      <td>USA-05</td>\n",
       "      <td>Arkansas</td>\n",
       "      <td>194</td>\n",
       "      <td>475.86</td>\n",
       "      <td>15.77</td>\n",
       "      <td>0</td>\n",
       "      <td>3.71</td>\n",
       "      <td>0.12</td>\n",
       "      <td>3.024658</td>\n",
       "    </tr>\n",
       "    <tr>\n",
       "      <th>57851</th>\n",
       "      <td>2023-01-09</td>\n",
       "      <td>USA-04</td>\n",
       "      <td>Arizona</td>\n",
       "      <td>0</td>\n",
       "      <td>883.86</td>\n",
       "      <td>12.14</td>\n",
       "      <td>0</td>\n",
       "      <td>18.43</td>\n",
       "      <td>0.25</td>\n",
       "      <td>3.024658</td>\n",
       "    </tr>\n",
       "    <tr>\n",
       "      <th>57852</th>\n",
       "      <td>2023-01-09</td>\n",
       "      <td>USA-02</td>\n",
       "      <td>Alaska</td>\n",
       "      <td>0</td>\n",
       "      <td>52.00</td>\n",
       "      <td>7.11</td>\n",
       "      <td>0</td>\n",
       "      <td>0.00</td>\n",
       "      <td>0.00</td>\n",
       "      <td>3.024658</td>\n",
       "    </tr>\n",
       "    <tr>\n",
       "      <th>57853</th>\n",
       "      <td>2023-01-09</td>\n",
       "      <td>USA-01</td>\n",
       "      <td>Alabama</td>\n",
       "      <td>0</td>\n",
       "      <td>1306.43</td>\n",
       "      <td>26.64</td>\n",
       "      <td>0</td>\n",
       "      <td>3.93</td>\n",
       "      <td>0.08</td>\n",
       "      <td>3.024658</td>\n",
       "    </tr>\n",
       "  </tbody>\n",
       "</table>\n",
       "</div>"
      ],
      "text/plain": [
       "             date   geoid        state  cases  cases_avg  cases_avg_per_100k  \\\n",
       "57847  2023-01-09  USA-09  Connecticut    244     808.43               22.67   \n",
       "57848  2023-01-09  USA-08     Colorado   1000     491.29                8.53   \n",
       "57849  2023-01-09  USA-06   California   5135    7537.13               19.08   \n",
       "57850  2023-01-09  USA-05     Arkansas    194     475.86               15.77   \n",
       "57851  2023-01-09  USA-04      Arizona      0     883.86               12.14   \n",
       "57852  2023-01-09  USA-02       Alaska      0      52.00                7.11   \n",
       "57853  2023-01-09  USA-01      Alabama      0    1306.43               26.64   \n",
       "\n",
       "       deaths  deaths_avg  deaths_avg_per_100k  years_since_jan1_2020  \n",
       "57847       0        5.29                 0.15               3.024658  \n",
       "57848      23        4.20                 0.07               3.024658  \n",
       "57849      60       51.70                 0.13               3.024658  \n",
       "57850       0        3.71                 0.12               3.024658  \n",
       "57851       0       18.43                 0.25               3.024658  \n",
       "57852       0        0.00                 0.00               3.024658  \n",
       "57853       0        3.93                 0.08               3.024658  "
      ]
     },
     "execution_count": 23,
     "metadata": {},
     "output_type": "execute_result"
    }
   ],
   "source": [
    "state_df.tail(7)"
   ]
  },
  {
   "cell_type": "markdown",
   "metadata": {},
   "source": [
    "### Question 1b: Exploring Data (3 pts)\n",
    "Use code to query the number of rows and columns of the data frame. Assign the variable `num_row` to the number of rows and `num_col` to the number of columns. Finally, assign a variable `columns` to the names of the columns."
   ]
  },
  {
   "cell_type": "code",
   "execution_count": 8,
   "metadata": {
    "tags": []
   },
   "outputs": [
    {
     "name": "stdout",
     "output_type": "stream",
     "text": [
      "Number of rows is: 57854\n",
      "Number of columns is: 10\n",
      "Columns are: date, geoid, state, cases, cases_avg, cases_avg_per_100k, deaths, deaths_avg, deaths_avg_per_100k, years_since_jan1_2020\n"
     ]
    }
   ],
   "source": [
    "num_row = state_df.shape[0]\n",
    "num_col = state_df.shape[1]\n",
    "columns = state_df.columns\n",
    "\n",
    "print(f\"Number of rows is: {num_row}\") \n",
    "print(f\"Number of columns is: {num_col}\")\n",
    "print(f\"Columns are: {', '.join(list(columns))}\")"
   ]
  },
  {
   "cell_type": "code",
   "execution_count": 9,
   "metadata": {
    "deletable": false,
    "editable": false,
    "tags": []
   },
   "outputs": [
    {
     "data": {
      "text/html": [
       "<p><strong><pre style='display: inline;'>q1b</pre></strong> passed! 🍀</p>"
      ],
      "text/plain": [
       "q1b results: All test cases passed!"
      ]
     },
     "execution_count": 9,
     "metadata": {},
     "output_type": "execute_result"
    }
   ],
   "source": [
    "grader.check(\"q1b\")"
   ]
  },
  {
   "cell_type": "markdown",
   "metadata": {
    "tags": []
   },
   "source": [
    "### Question 1c: Setting up Data For Plotting (5 pts)\n",
    "It can often be advantageous to split up large data frames into subsets.<br> Create data frames specific to data from Oregon, California, and New York with respective names\n",
    "of `ca_df`, `ny_df`, `or_df`"
   ]
  },
  {
   "cell_type": "code",
   "execution_count": 10,
   "metadata": {
    "tags": []
   },
   "outputs": [],
   "source": [
    "# Create data frame with data only from Oregon\n",
    "or_df = state_df[state_df['state'] == 'Oregon']\n",
    "\n",
    "# Create data frame with data only from California\n",
    "ca_df = state_df[state_df['state'] == 'California']\n",
    "\n",
    "# Create data frame with data only from New York\n",
    "ny_df = state_df[state_df['state'] == 'New York']"
   ]
  },
  {
   "cell_type": "code",
   "execution_count": 11,
   "metadata": {
    "deletable": false,
    "editable": false,
    "tags": []
   },
   "outputs": [
    {
     "data": {
      "text/html": [
       "<p><strong><pre style='display: inline;'>q1c</pre></strong> passed! 💯</p>"
      ],
      "text/plain": [
       "q1c results: All test cases passed!"
      ]
     },
     "execution_count": 11,
     "metadata": {},
     "output_type": "execute_result"
    }
   ],
   "source": [
    "grader.check(\"q1c\")"
   ]
  },
  {
   "cell_type": "markdown",
   "metadata": {
    "deletable": false,
    "editable": false
   },
   "source": [
    "### Question 1d: Plotting Data (5 pts)\n",
    "On our given axis (ax1d), plot three time-series of infections over time. Plot data from column `cases_avg_per_100k` on the vertical axis and `years_since_jan1_2020` on the horizontal (x) axis.<br>\n",
    "Use `ax1d.set_xlabel` and `ax1d.set_ylabel` to set appropriate labels for x and y axes and `ax1d.legend` to label each time-series with the state names.\n",
    "\n",
    "Your plot Should look like this (you don't have to match the colors)\n",
    "\n",
    "![](./1d_graph.png)"
   ]
  },
  {
   "cell_type": "code",
   "execution_count": 12,
   "metadata": {
    "tags": []
   },
   "outputs": [
    {
     "data": {
      "text/plain": [
       "<matplotlib.legend.Legend at 0x7f34abcf9c90>"
      ]
     },
     "execution_count": 12,
     "metadata": {},
     "output_type": "execute_result"
    },
    {
     "data": {
      "image/png": "[encoded data removed]",
      "text/plain": [
       "<Figure size 640x480 with 1 Axes>"
      ]
     },
     "metadata": {},
     "output_type": "display_data"
    }
   ],
   "source": [
    "# USE THIS axis\n",
    "ax1d = plt.axes()\n",
    "\n",
    "ax1d.plot(or_df['years_since_jan1_2020'], or_df['cases_avg_per_100k'],color='c',label='Oregon')\n",
    "ax1d.plot(ca_df['years_since_jan1_2020'], ca_df['cases_avg_per_100k'],color='m',label='California')\n",
    "ax1d.plot(ny_df['years_since_jan1_2020'], ny_df['cases_avg_per_100k'],color='y',label='New York')\n",
    "\n",
    "ax1d.set_xlabel('Years Since 01/01/2020')\n",
    "ax1d.set_ylabel('Average Cases per 100k Residents')\n",
    "ax1d.legend()"
   ]
  },
  {
   "cell_type": "code",
   "execution_count": 37,
   "metadata": {
    "deletable": false,
    "editable": false,
    "tags": []
   },
   "outputs": [
    {
     "data": {
      "text/html": [
       "<p><strong><pre style='display: inline;'>q1d</pre></strong> passed! ✨</p>"
      ],
      "text/plain": [
       "q1d results: All test cases passed!"
      ]
     },
     "execution_count": 37,
     "metadata": {},
     "output_type": "execute_result"
    }
   ],
   "source": [
    "grader.check(\"q1d\")"
   ]
  },
  {
   "cell_type": "markdown",
   "metadata": {
    "deletable": false,
    "editable": false
   },
   "source": [
    "<!-- BEGIN QUESTION -->\n",
    "\n",
    "### Question 1e: Qualitative inspection of the data (5 pts)\n",
    "1. In the above plot, how many approximate distinct peaks - or \"surges\" in infections are there for:\n",
    "    - New York?\n",
    "    - California?\n",
    "    - Oregon?\n",
    "2. Are there peaks that are roughly aligned in time with each other? Are there examples of peaks that are not well aligned? \n",
    "\n",
    "3. What is the order across the three states in which the Omicron-driven surge began in December 2021 (two years after 1/01/20)?<br>\n",
    "\n",
    "**Note:** Don't worry about exact answers, as these answers are subjective. Just make your best effort to explain what you observe for full credit.\n"
   ]
  },
  {
   "cell_type": "markdown",
   "metadata": {},
   "source": [
    "I would say that New York has four distinct peaks, California has five, and Oregon has four. In general, the peaks are roughly aligned in time with each other, but there are some peaks that are more individual. One example of this is New York's first peak, which is earlier than the first peaks of the other states. It appears that the surge in December 2021 started with New York, then California, then Oregon."
   ]
  },
  {
   "cell_type": "markdown",
   "metadata": {
    "deletable": false,
    "editable": false
   },
   "source": [
    "<!-- END QUESTION -->\n",
    "\n",
    "### Question 1f: Writing a function that will plot the data for any arbitrary state (10 pts)\n",
    "\n",
    "Define a function named `state_plot` that:\n",
    "1. Takes two inputs (`state_df` and `state`)\n",
    "    - `state_df`, a dataframe with all the state data, as generated above\n",
    "    - `state`,  a string with a specific state name\n",
    "  \n",
    "2. Subsets the input data frame to get data corresponding to the specific input state (as done above).\n",
    "  \n",
    "3. With this state-specific data frame:  \n",
    "    -  Plot time-series data with `cases_avg_per_100k` on the vertical axis and `years_since_jan1_2020` on the horizontal axis. Make sure that the axes get labelled and that there is a legend with the input state name.\n",
    "4. Returns the state-specific data frame.\n",
    "  \n"
   ]
  },
  {
   "cell_type": "code",
   "execution_count": 52,
   "metadata": {
    "tags": []
   },
   "outputs": [
    {
     "data": {
      "text/html": [
       "<div>\n",
       "<style scoped>\n",
       "    .dataframe tbody tr th:only-of-type {\n",
       "        vertical-align: middle;\n",
       "    }\n",
       "\n",
       "    .dataframe tbody tr th {\n",
       "        vertical-align: top;\n",
       "    }\n",
       "\n",
       "    .dataframe thead th {\n",
       "        text-align: right;\n",
       "    }\n",
       "</style>\n",
       "<table border=\"1\" class=\"dataframe\">\n",
       "  <thead>\n",
       "    <tr style=\"text-align: right;\">\n",
       "      <th></th>\n",
       "      <th>date</th>\n",
       "      <th>geoid</th>\n",
       "      <th>state</th>\n",
       "      <th>cases</th>\n",
       "      <th>cases_avg</th>\n",
       "      <th>cases_avg_per_100k</th>\n",
       "      <th>deaths</th>\n",
       "      <th>deaths_avg</th>\n",
       "      <th>deaths_avg_per_100k</th>\n",
       "      <th>years_since_jan1_2020</th>\n",
       "    </tr>\n",
       "  </thead>\n",
       "  <tbody>\n",
       "    <tr>\n",
       "      <th>494</th>\n",
       "      <td>2020-03-11</td>\n",
       "      <td>USA-56</td>\n",
       "      <td>Wyoming</td>\n",
       "      <td>1</td>\n",
       "      <td>0.14</td>\n",
       "      <td>0.02</td>\n",
       "      <td>0</td>\n",
       "      <td>0.0</td>\n",
       "      <td>0.0</td>\n",
       "      <td>0.191781</td>\n",
       "    </tr>\n",
       "    <tr>\n",
       "      <th>539</th>\n",
       "      <td>2020-03-12</td>\n",
       "      <td>USA-56</td>\n",
       "      <td>Wyoming</td>\n",
       "      <td>0</td>\n",
       "      <td>0.14</td>\n",
       "      <td>0.02</td>\n",
       "      <td>0</td>\n",
       "      <td>0.0</td>\n",
       "      <td>0.0</td>\n",
       "      <td>0.194521</td>\n",
       "    </tr>\n",
       "    <tr>\n",
       "      <th>587</th>\n",
       "      <td>2020-03-13</td>\n",
       "      <td>USA-56</td>\n",
       "      <td>Wyoming</td>\n",
       "      <td>1</td>\n",
       "      <td>0.29</td>\n",
       "      <td>0.05</td>\n",
       "      <td>0</td>\n",
       "      <td>0.0</td>\n",
       "      <td>0.0</td>\n",
       "      <td>0.197260</td>\n",
       "    </tr>\n",
       "    <tr>\n",
       "      <th>639</th>\n",
       "      <td>2020-03-14</td>\n",
       "      <td>USA-56</td>\n",
       "      <td>Wyoming</td>\n",
       "      <td>1</td>\n",
       "      <td>0.43</td>\n",
       "      <td>0.07</td>\n",
       "      <td>0</td>\n",
       "      <td>0.0</td>\n",
       "      <td>0.0</td>\n",
       "      <td>0.200000</td>\n",
       "    </tr>\n",
       "    <tr>\n",
       "      <th>692</th>\n",
       "      <td>2020-03-15</td>\n",
       "      <td>USA-56</td>\n",
       "      <td>Wyoming</td>\n",
       "      <td>0</td>\n",
       "      <td>0.43</td>\n",
       "      <td>0.07</td>\n",
       "      <td>0</td>\n",
       "      <td>0.0</td>\n",
       "      <td>0.0</td>\n",
       "      <td>0.202740</td>\n",
       "    </tr>\n",
       "    <tr>\n",
       "      <th>...</th>\n",
       "      <td>...</td>\n",
       "      <td>...</td>\n",
       "      <td>...</td>\n",
       "      <td>...</td>\n",
       "      <td>...</td>\n",
       "      <td>...</td>\n",
       "      <td>...</td>\n",
       "      <td>...</td>\n",
       "      <td>...</td>\n",
       "      <td>...</td>\n",
       "    </tr>\n",
       "    <tr>\n",
       "      <th>57579</th>\n",
       "      <td>2023-01-05</td>\n",
       "      <td>USA-56</td>\n",
       "      <td>Wyoming</td>\n",
       "      <td>0</td>\n",
       "      <td>43.43</td>\n",
       "      <td>7.50</td>\n",
       "      <td>0</td>\n",
       "      <td>0.0</td>\n",
       "      <td>0.0</td>\n",
       "      <td>3.013699</td>\n",
       "    </tr>\n",
       "    <tr>\n",
       "      <th>57635</th>\n",
       "      <td>2023-01-06</td>\n",
       "      <td>USA-56</td>\n",
       "      <td>Wyoming</td>\n",
       "      <td>0</td>\n",
       "      <td>43.43</td>\n",
       "      <td>7.50</td>\n",
       "      <td>0</td>\n",
       "      <td>0.0</td>\n",
       "      <td>0.0</td>\n",
       "      <td>3.016438</td>\n",
       "    </tr>\n",
       "    <tr>\n",
       "      <th>57691</th>\n",
       "      <td>2023-01-07</td>\n",
       "      <td>USA-56</td>\n",
       "      <td>Wyoming</td>\n",
       "      <td>0</td>\n",
       "      <td>43.43</td>\n",
       "      <td>7.50</td>\n",
       "      <td>0</td>\n",
       "      <td>0.0</td>\n",
       "      <td>0.0</td>\n",
       "      <td>3.019178</td>\n",
       "    </tr>\n",
       "    <tr>\n",
       "      <th>57747</th>\n",
       "      <td>2023-01-08</td>\n",
       "      <td>USA-56</td>\n",
       "      <td>Wyoming</td>\n",
       "      <td>0</td>\n",
       "      <td>43.43</td>\n",
       "      <td>7.50</td>\n",
       "      <td>0</td>\n",
       "      <td>0.0</td>\n",
       "      <td>0.0</td>\n",
       "      <td>3.021918</td>\n",
       "    </tr>\n",
       "    <tr>\n",
       "      <th>57803</th>\n",
       "      <td>2023-01-09</td>\n",
       "      <td>USA-56</td>\n",
       "      <td>Wyoming</td>\n",
       "      <td>0</td>\n",
       "      <td>43.43</td>\n",
       "      <td>7.50</td>\n",
       "      <td>0</td>\n",
       "      <td>0.0</td>\n",
       "      <td>0.0</td>\n",
       "      <td>3.024658</td>\n",
       "    </tr>\n",
       "  </tbody>\n",
       "</table>\n",
       "<p>1035 rows × 10 columns</p>\n",
       "</div>"
      ],
      "text/plain": [
       "             date   geoid    state  cases  cases_avg  cases_avg_per_100k  \\\n",
       "494    2020-03-11  USA-56  Wyoming      1       0.14                0.02   \n",
       "539    2020-03-12  USA-56  Wyoming      0       0.14                0.02   \n",
       "587    2020-03-13  USA-56  Wyoming      1       0.29                0.05   \n",
       "639    2020-03-14  USA-56  Wyoming      1       0.43                0.07   \n",
       "692    2020-03-15  USA-56  Wyoming      0       0.43                0.07   \n",
       "...           ...     ...      ...    ...        ...                 ...   \n",
       "57579  2023-01-05  USA-56  Wyoming      0      43.43                7.50   \n",
       "57635  2023-01-06  USA-56  Wyoming      0      43.43                7.50   \n",
       "57691  2023-01-07  USA-56  Wyoming      0      43.43                7.50   \n",
       "57747  2023-01-08  USA-56  Wyoming      0      43.43                7.50   \n",
       "57803  2023-01-09  USA-56  Wyoming      0      43.43                7.50   \n",
       "\n",
       "       deaths  deaths_avg  deaths_avg_per_100k  years_since_jan1_2020  \n",
       "494         0         0.0                  0.0               0.191781  \n",
       "539         0         0.0                  0.0               0.194521  \n",
       "587         0         0.0                  0.0               0.197260  \n",
       "639         0         0.0                  0.0               0.200000  \n",
       "692         0         0.0                  0.0               0.202740  \n",
       "...       ...         ...                  ...                    ...  \n",
       "57579       0         0.0                  0.0               3.013699  \n",
       "57635       0         0.0                  0.0               3.016438  \n",
       "57691       0         0.0                  0.0               3.019178  \n",
       "57747       0         0.0                  0.0               3.021918  \n",
       "57803       0         0.0                  0.0               3.024658  \n",
       "\n",
       "[1035 rows x 10 columns]"
      ]
     },
     "execution_count": 52,
     "metadata": {},
     "output_type": "execute_result"
    },
    {
     "data": {
      "image/png": "[encoded data removed]",
      "text/plain": [
       "<Figure size 640x480 with 1 Axes>"
      ]
     },
     "metadata": {},
     "output_type": "display_data"
    }
   ],
   "source": [
    "def state_plot(state_df,state):\n",
    "    state_name = state\n",
    "    state = state_df[state_df['state'] == state]\n",
    "    ax = plt.axes()\n",
    "    ax.plot(state['years_since_jan1_2020'], state['cases_avg_per_100k'], label=state_name)\n",
    "    ax.set_xlabel('Years Since 01/01/2020')\n",
    "    ax.set_ylabel('Average Cases per 100k Residents')\n",
    "    plt.legend()\n",
    "    return state\n",
    "\n",
    "# Test your function out with states of your choice...\n",
    "returned_df = state_plot(state_df, 'Wyoming')\n",
    "returned_df\n"
   ]
  },
  {
   "cell_type": "code",
   "execution_count": 53,
   "metadata": {
    "deletable": false,
    "editable": false,
    "tags": []
   },
   "outputs": [
    {
     "data": {
      "text/html": [
       "<p><strong><pre style='display: inline;'>q1f</pre></strong> passed! 🚀</p>"
      ],
      "text/plain": [
       "q1f results: All test cases passed!"
      ]
     },
     "execution_count": 53,
     "metadata": {},
     "output_type": "execute_result"
    },
    {
     "data": {
      "text/plain": [
       "<Figure size 640x480 with 0 Axes>"
      ]
     },
     "metadata": {},
     "output_type": "display_data"
    }
   ],
   "source": [
    "grader.check(\"q1f\")"
   ]
  },
  {
   "cell_type": "markdown",
   "metadata": {},
   "source": [
    "### Question 1g: Writing a function that plots the data for multiple states (10 pts)\n",
    "\n",
    "Define a function named `plot_and_analyze_states` that:\n",
    "- Takes two inputs (`state_df` and `states_list`)\n",
    "    - `state_df`, a dataframe with all the state data, as generated above\n",
    "    - `states_list`,  a list of strings with specific state names. This list could be of any length though we suggest you test your function with 2-5 states. \n",
    "  \n",
    "- Contains a for loop so that for each state in the list, the function subsets the input data frame to get state-specific data frame (which can be overwritten each time through the for loop).\n",
    "- With that state-specific data frame, you should:\n",
    "    -  Plot `Average cases per 100k residents` on the vertical axis and `years since jan1 2020` on the horizontal axis, as above.\n",
    "    - Determine the maximum of the average cases reported.\n",
    "    - Save this value to a dictionary`, where the dictionary keys are state names and the dictionary values are the infection maxima. \n",
    "    \n",
    "- The function should return this dictionary.\n",
    "\n",
    "\n"
   ]
  },
  {
   "cell_type": "code",
   "execution_count": 58,
   "metadata": {
    "tags": []
   },
   "outputs": [
    {
     "name": "stdout",
     "output_type": "stream",
     "text": [
      "{'Rhode Island': 506.81, 'Virginia': 220.04, 'North Carolina': 302.11, 'New Hampshire': 256.87}\n"
     ]
    },
    {
     "data": {
      "image/png": "[encoded data removed]",
      "text/plain": [
       "<Figure size 640x480 with 1 Axes>"
      ]
     },
     "metadata": {},
     "output_type": "display_data"
    }
   ],
   "source": [
    "\n",
    "def plot_and_analyze_states(state_df, states_list):\n",
    "    fig=plt.figure()\n",
    "    ax=fig.add_subplot(111)\n",
    "    max_dict = {}\n",
    "    for state in states_list:\n",
    "        df_subset=state_df[state_df['state']==state]\n",
    "        ax.plot(df_subset['years_since_jan1_2020'], df_subset['cases_avg_per_100k'],label=state)\n",
    "        \n",
    "        max=0\n",
    "        cases_df= df_subset['cases_avg_per_100k']\n",
    "        for case in cases_df:\n",
    "            if case > max:\n",
    "                max=case\n",
    "        max_dict[state]=max\n",
    "        \n",
    "    ax.set_xlabel('Years Since 01/01/2020')\n",
    "    ax.set_ylabel('Average Cases per 100k Residents')\n",
    "    \n",
    "    return max_dict\n",
    "    \n",
    "\n",
    "    \n",
    "#This is just an example, you should try your function on other states\n",
    "states_list=['Rhode Island','Virginia','North Carolina', 'New Hampshire']\n",
    "max_infection_dict=plot_and_analyze_states(state_df,states_list)\n",
    "       \n",
    "print(max_infection_dict)\n"
   ]
  },
  {
   "cell_type": "code",
   "execution_count": 59,
   "metadata": {
    "deletable": false,
    "editable": false,
    "tags": []
   },
   "outputs": [
    {
     "data": {
      "text/html": [
       "<p><strong><pre style='display: inline;'>q1g</pre></strong> passed! 🍀</p>"
      ],
      "text/plain": [
       "q1g results: All test cases passed!"
      ]
     },
     "execution_count": 59,
     "metadata": {},
     "output_type": "execute_result"
    },
    {
     "data": {
      "text/plain": [
       "<Figure size 640x480 with 0 Axes>"
      ]
     },
     "metadata": {},
     "output_type": "display_data"
    }
   ],
   "source": [
    "grader.check(\"q1g\")"
   ]
  },
  {
   "cell_type": "markdown",
   "metadata": {
    "deletable": false,
    "editable": false
   },
   "source": [
    "## Submission\n",
    "\n",
    "Make sure you have run all cells in your notebook in order before running the cell below, so that all images/graphs appear in the output. The cell below will generate a zip file for you to submit. **Please save before exporting!**"
   ]
  },
  {
   "cell_type": "code",
   "execution_count": null,
   "metadata": {
    "deletable": false,
    "editable": false
   },
   "outputs": [],
   "source": [
    "# Save your notebook first, then run this cell to export your submission.\n",
    "grader.export(run_tests=True)"
   ]
  },
  {
   "cell_type": "markdown",
   "metadata": {},
   "source": [
    " "
   ]
  }
 ],
 "metadata": {
  "kernelspec": {
   "display_name": "Python 3 (ipykernel)",
   "language": "python",
   "name": "python3"
  },
  "language_info": {
   "codemirror_mode": {
    "name": "ipython",
    "version": 3
   },
   "file_extension": ".py",
   "mimetype": "text/x-python",
   "name": "python",
   "nbconvert_exporter": "python",
   "pygments_lexer": "ipython3",
   "version": "3.11.7"
  },
  "otter": {
   "OK_FORMAT": true,
   "tests": {
    "q1a": {
     "name": "q1a",
     "points": 3,
     "suites": [
      {
       "cases": [
        {
         "code": ">>> \n>>> \n>>> assert str(type(state_df)) == \"<class 'pandas.core.frame.DataFrame'>\"\n",
         "failure_message": "What Pandas function allows you to turn a csv file into a Data Frame?",
         "hidden": false,
         "locked": false,
         "points": 3
        }
       ],
       "scored": true,
       "setup": "",
       "teardown": "",
       "type": "doctest"
      }
     ]
    },
    "q1b": {
     "name": "q1b",
     "points": 3,
     "suites": [
      {
       "cases": [
        {
         "code": ">>> \n>>> \n>>> columns_answer = state_df.columns\n>>> def coltester(columns, columns_answer):\n...     for colname in columns_answer:\n...         if colname not in columns:\n...             return False\n...     return True\n>>> assert coltester(columns, columns_answer) and type(columns) == type(columns_answer)\n",
         "failure_message": "Go to the pandas documentation and see if you can find a Data Frame attribute that provides all the columns within the data structure.",
         "hidden": false,
         "locked": false,
         "points": 1
        },
        {
         "code": ">>> \n>>> num_row_answer = state_df.shape[0]\n>>> assert num_row == num_row_answer\n>>> \n",
         "failure_message": "Look up the 'shape' attribute of Data Frames in the pandas documentation.",
         "hidden": false,
         "locked": false,
         "points": 1
        },
        {
         "code": ">>> \n>>> num_col_answer = state_df.shape[1]\n>>> assert num_col == num_col_answer\n>>> \n",
         "failure_message": "Look up the 'shape' attribute of Data Frames in pandas documentation.",
         "hidden": false,
         "locked": false,
         "points": 1
        }
       ],
       "scored": true,
       "setup": "",
       "teardown": "",
       "type": "doctest"
      }
     ]
    },
    "q1c": {
     "name": "q1c",
     "points": 5,
     "suites": [
      {
       "cases": [
        {
         "code": ">>> \n>>> assert len(or_df['state'].unique()) == 1 and 'Oregon' in list(or_df['state'])\n>>> \n",
         "failure_message": "Look up 'subsetting data in pandas' and think about what true/false statement will only give you rows corresponding to California data.",
         "hidden": false,
         "locked": false
        },
        {
         "code": ">>> \n>>> assert len(ca_df['state'].unique()) == 1 and 'California' in list(ca_df['state'])\n",
         "failure_message": "Look up 'subsetting data in pandas' and think about what true/false statement will only give you rows corresponding to California data.",
         "hidden": false,
         "locked": false
        },
        {
         "code": ">>> \n>>> assert len(ny_df['state'].unique()) == 1 and 'New York' in list(ny_df['state'])\n>>> \n",
         "failure_message": "Look up 'subsetting data in pandas' and think about what true/false statement will only give you rows corresponding to New York data.",
         "hidden": false,
         "locked": false
        }
       ],
       "scored": true,
       "setup": "",
       "teardown": "",
       "type": "doctest"
      }
     ]
    },
    "q1d": {
     "name": "q1d",
     "points": 5,
     "suites": [
      {
       "cases": [
        {
         "code": ">>> \n>>> csv_filename = 'state_data.csv'\n>>> state_df = pd.read_csv(csv_filename) \n>>> \n>>> lines = ax1d.get_lines()\n>>> l1x = lines[0].get_xdata()\n>>> l2x = lines[1].get_xdata()\n>>> l3x = lines[2].get_xdata()\n>>> \n>>> all_lines_x = [l1x, l2x, l3x]\n>>> \n>>> or_df = state_df[state_df['state']=='Oregon']  \n>>> ca_df = state_df[state_df['state']=='California'] \n>>> ny_df = state_df[state_df['state']=='New York']  \n>>> \n>>> # check all states x values.\n>>> x1 = any(np.array_equal(or_df.years_since_jan1_2020.values, arr) for arr in all_lines_x) \n>>> x2 = any(np.array_equal(ca_df.years_since_jan1_2020.values, arr) for arr in all_lines_x) \n>>> x3 = any(np.array_equal(ny_df.years_since_jan1_2020.values, arr) for arr in all_lines_x)\n>>> \n>>> assert (x1 and x2 and x3)\n>>> \n",
         "failure_message": "Check your x data for all states",
         "hidden": false,
         "locked": false
        },
        {
         "code": ">>> \n>>> csv_filename = 'state_data.csv'\n>>> state_df = pd.read_csv(csv_filename) \n>>> \n>>> lines = ax1d.get_lines()\n>>> l1y = lines[0].get_ydata()\n>>> l2y = lines[1].get_ydata()\n>>> l3y = lines[2].get_ydata()\n>>> \n>>> all_lines_y = [l1y, l2y, l3y]\n>>> \n>>> or_df = state_df[state_df['state']=='Oregon']  \n>>> ca_df = state_df[state_df['state']=='California'] \n>>> ny_df = state_df[state_df['state']=='New York']  \n>>> \n>>> # check all states y values.\n>>> y1 = any(np.array_equal(or_df.cases_avg_per_100k.values, arr) for arr in all_lines_y) \n>>> y2 = any(np.array_equal(ca_df.cases_avg_per_100k.values, arr) for arr in all_lines_y) \n>>> y3 = any(np.array_equal(ny_df.cases_avg_per_100k.values, arr) for arr in all_lines_y)\n>>> \n>>> \n>>> # assert that all states have matching data for y values\n>>> assert (y1 and y2 and y3)\n",
         "failure_message": "Check your y data for all states",
         "hidden": false,
         "locked": false
        },
        {
         "code": ">>> \n>>> xlab = ax1d.get_xlabel() != ''\n>>> ylab = ax1d.get_ylabel() != ''\n>>> le = ax1d.get_legend() is not None\n>>> \n>>> assert (xlab and ylab and le)\n>>> \n",
         "failure_message": "Check that you have axis labels and a legend",
         "hidden": false,
         "locked": false
        }
       ],
       "scored": true,
       "setup": "",
       "teardown": "",
       "type": "doctest"
      }
     ]
    },
    "q1f": {
     "name": "q1f",
     "points": 10,
     "suites": [
      {
       "cases": [
        {
         "code": ">>> \n>>> output_state_df = state_plot(state_df=state_df, state='Wyoming')\n>>> plt.clf()\n>>> assert (len(output_state_df['state'].unique()) == 1) \n>>> assert 'Wyoming' in list(output_state_df['state'])\n>>> \n<Figure size 640x480 with 1 Axes>",
         "failure_message": "Did you filter data frame correctly for a specific state?",
         "hidden": false,
         "locked": false
        },
        {
         "code": ">>> \n>>> _ = state_plot(state_df=state_df, state='Wyoming')\n>>> \n>>> csv_filename = 'state_data.csv'\n>>> states_ = pd.read_csv(csv_filename) \n>>> wy_df = states_[states_.state == 'Wyoming']\n>>> \n>>> \n>>> line_data = plt.gca().get_lines()[0]\n>>> x = line_data.get_xdata()\n>>> y = line_data.get_ydata()\n>>> \n>>> xbool = np.array_equal(wy_df.years_since_jan1_2020.values, x)\n>>> ybool = np.array_equal(wy_df.cases_avg_per_100k.values, y)\n>>> plt.clf()\n>>> assert (xbool and ybool)\n>>> \n<Figure size 640x480 with 1 Axes>",
         "failure_message": "Check that you are plotting the correct columns from your filtered dataframe.",
         "hidden": false,
         "locked": false
        },
        {
         "code": ">>> \n>>> _ = state_plot(state_df=state_df, state='Wyoming')\n>>> xbool = plt.gca().get_xlabel() != ''\n>>> ybool = plt.gca().get_ylabel() != ''\n>>> legend_bool = plt.gca().get_legend().get_texts()[0].get_text() == 'Wyoming'\n>>> plt.clf()\n>>> assert (xbool and ybool and legend_bool)\n>>> \n<Figure size 640x480 with 1 Axes>",
         "failure_message": "Check that you have x,y labels and a legend label which is the input state",
         "hidden": false,
         "locked": false
        }
       ],
       "scored": true,
       "setup": "",
       "teardown": "",
       "type": "doctest"
      }
     ]
    },
    "q1g": {
     "name": "q1g",
     "points": 10,
     "suites": [
      {
       "cases": [
        {
         "code": ">>> \n>>> states_list=['Florida','New Hampshire', 'Idaho']\n>>> infection_dict = plot_and_analyze_states(state_df, states_list)\n>>> plt.clf()\n>>> assert np.isclose(infection_dict['New Hampshire'], 256.87)\n>>> \n>>> \n<Figure size 640x480 with 0 Axes>",
         "failure_message": "Did you filter data frame correctly for a specific state?",
         "hidden": false,
         "locked": false
        }
       ],
       "scored": true,
       "setup": "",
       "teardown": "",
       "type": "doctest"
      }
     ]
    }
   }
  },
  "vscode": {
   "interpreter": {
    "hash": "5960ed099d735495e2bd054c87729f3bdce3e7c86b4a7ff24a9c85b203f2ea99"
   }
  }
 },
 "nbformat": 4,
 "nbformat_minor": 4
}
